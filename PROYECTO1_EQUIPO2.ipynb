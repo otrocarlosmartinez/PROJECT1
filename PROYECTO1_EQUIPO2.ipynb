import pandas as pd

df = pd.read_csv('Barcelona_Fotocasa_HousingPrices.csv')
