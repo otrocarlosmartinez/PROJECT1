{
 "cells": [
  {
   "cell_type": "markdown",
   "metadata": {},
   "source": [
    "# Problem Statement\n",
    "\n",
    "**PROJECTO 1** <br>\n",
    "**Análisis exploratorio y modelado predictivo de precios de viviendas en Barcelona usando Python y SQL**"
   ]
  },
  {
   "cell_type": "markdown",
   "metadata": {},
   "source": [
    "## Objective\n",
    "Desarrollar un análisis completo y un modelo predictivo para los precios de viviendas en Barcelona, utilizando datos extraídos del portal Fotocasa. El objetivo es aplicar técnicas de extracción, manipulación y análisis de datos, así como algoritmos de Machine Learning, para predecir los precios de las viviendas en función de diversas características."
   ]
  },
  {
   "cell_type": "markdown",
   "metadata": {},
   "source": [
    "## Data Description\n",
    "- **price**: The price of the real-state.\n",
    "- **rooms**: Number of rooms.\n",
    "- **bathroom**: Number of bathrooms.\n",
    "- **lift**: whether a building has an elevator (also known as a lift in some regions) or not\n",
    "- **terrace**: If it has a terrace or not.\n",
    "- **square_meters**: Number of square meters.\n",
    "- **real_state**: Kind of real-state.\n",
    "- **neighborhood**: Neighborhood\n",
    "- **square_meters_price**: Price of the square meter."
   ]
  },
  {
   "cell_type": "markdown",
   "metadata": {},
   "source": [
    "## Importing necessary libraries"
   ]
  },
  {
   "cell_type": "code",
   "execution_count": 1,
   "metadata": {},
   "outputs": [],
   "source": [
    "import pandas as pd"
   ]
  },
  {
   "cell_type": "markdown",
   "metadata": {},
   "source": [
    "## Loading the Dataset"
   ]
  },
  {
   "cell_type": "code",
   "execution_count": 2,
   "metadata": {},
   "outputs": [],
   "source": [
    "df=pd.read_csv('Barcelona_Fotocasa_HousingPrices.csv')"
   ]
  },
  {
   "cell_type": "code",
   "execution_count": 8,
   "metadata": {},
   "outputs": [
    {
     "data": {
      "text/html": [
       "<div>\n",
       "<style scoped>\n",
       "    .dataframe tbody tr th:only-of-type {\n",
       "        vertical-align: middle;\n",
       "    }\n",
       "\n",
       "    .dataframe tbody tr th {\n",
       "        vertical-align: top;\n",
       "    }\n",
       "\n",
       "    .dataframe thead th {\n",
       "        text-align: right;\n",
       "    }\n",
       "</style>\n",
       "<table border=\"1\" class=\"dataframe\">\n",
       "  <thead>\n",
       "    <tr style=\"text-align: right;\">\n",
       "      <th></th>\n",
       "      <th>Unnamed: 0</th>\n",
       "      <th>price</th>\n",
       "      <th>rooms</th>\n",
       "      <th>bathroom</th>\n",
       "      <th>lift</th>\n",
       "      <th>terrace</th>\n",
       "      <th>square_meters</th>\n",
       "      <th>real_state</th>\n",
       "      <th>neighborhood</th>\n",
       "      <th>square_meters_price</th>\n",
       "    </tr>\n",
       "  </thead>\n",
       "  <tbody>\n",
       "    <tr>\n",
       "      <th>0</th>\n",
       "      <td>0</td>\n",
       "      <td>750</td>\n",
       "      <td>3</td>\n",
       "      <td>1</td>\n",
       "      <td>True</td>\n",
       "      <td>False</td>\n",
       "      <td>60</td>\n",
       "      <td>flat</td>\n",
       "      <td>Horta- Guinardo</td>\n",
       "      <td>12.500000</td>\n",
       "    </tr>\n",
       "    <tr>\n",
       "      <th>1</th>\n",
       "      <td>1</td>\n",
       "      <td>770</td>\n",
       "      <td>2</td>\n",
       "      <td>1</td>\n",
       "      <td>True</td>\n",
       "      <td>False</td>\n",
       "      <td>59</td>\n",
       "      <td>flat</td>\n",
       "      <td>Sant Andreu</td>\n",
       "      <td>13.050847</td>\n",
       "    </tr>\n",
       "    <tr>\n",
       "      <th>2</th>\n",
       "      <td>2</td>\n",
       "      <td>1300</td>\n",
       "      <td>1</td>\n",
       "      <td>1</td>\n",
       "      <td>True</td>\n",
       "      <td>True</td>\n",
       "      <td>30</td>\n",
       "      <td>flat</td>\n",
       "      <td>Gràcia</td>\n",
       "      <td>43.333333</td>\n",
       "    </tr>\n",
       "    <tr>\n",
       "      <th>3</th>\n",
       "      <td>3</td>\n",
       "      <td>2800</td>\n",
       "      <td>1</td>\n",
       "      <td>1</td>\n",
       "      <td>True</td>\n",
       "      <td>True</td>\n",
       "      <td>70</td>\n",
       "      <td>flat</td>\n",
       "      <td>Ciutat Vella</td>\n",
       "      <td>40.000000</td>\n",
       "    </tr>\n",
       "    <tr>\n",
       "      <th>4</th>\n",
       "      <td>4</td>\n",
       "      <td>720</td>\n",
       "      <td>2</td>\n",
       "      <td>1</td>\n",
       "      <td>True</td>\n",
       "      <td>False</td>\n",
       "      <td>44</td>\n",
       "      <td>flat</td>\n",
       "      <td>Sant Andreu</td>\n",
       "      <td>16.363636</td>\n",
       "    </tr>\n",
       "  </tbody>\n",
       "</table>\n",
       "</div>"
      ],
      "text/plain": [
       "   Unnamed: 0  price  rooms  bathroom  lift  terrace  square_meters  \\\n",
       "0           0    750      3         1  True    False             60   \n",
       "1           1    770      2         1  True    False             59   \n",
       "2           2   1300      1         1  True     True             30   \n",
       "3           3   2800      1         1  True     True             70   \n",
       "4           4    720      2         1  True    False             44   \n",
       "\n",
       "  real_state     neighborhood  square_meters_price  \n",
       "0       flat  Horta- Guinardo            12.500000  \n",
       "1       flat      Sant Andreu            13.050847  \n",
       "2       flat           Gràcia            43.333333  \n",
       "3       flat     Ciutat Vella            40.000000  \n",
       "4       flat      Sant Andreu            16.363636  "
      ]
     },
     "execution_count": 8,
     "metadata": {},
     "output_type": "execute_result"
    }
   ],
   "source": [
    "df.head()"
   ]
  },
  {
   "cell_type": "code",
   "execution_count": 9,
   "metadata": {},
   "outputs": [
    {
     "name": "stdout",
     "output_type": "stream",
     "text": [
      "<class 'pandas.core.frame.DataFrame'>\n",
      "RangeIndex: 8188 entries, 0 to 8187\n",
      "Data columns (total 10 columns):\n",
      " #   Column               Non-Null Count  Dtype  \n",
      "---  ------               --------------  -----  \n",
      " 0   Unnamed: 0           8188 non-null   int64  \n",
      " 1   price                8188 non-null   int64  \n",
      " 2   rooms                8188 non-null   int64  \n",
      " 3   bathroom             8188 non-null   int64  \n",
      " 4   lift                 8188 non-null   bool   \n",
      " 5   terrace              8188 non-null   bool   \n",
      " 6   square_meters        8188 non-null   int64  \n",
      " 7   real_state           7920 non-null   object \n",
      " 8   neighborhood         8188 non-null   object \n",
      " 9   square_meters_price  8188 non-null   float64\n",
      "dtypes: bool(2), float64(1), int64(5), object(2)\n",
      "memory usage: 527.9+ KB\n"
     ]
    }
   ],
   "source": [
    "df.info()"
   ]
  },
  {
   "cell_type": "code",
   "execution_count": 11,
   "metadata": {},
   "outputs": [
    {
     "data": {
      "text/html": [
       "<div>\n",
       "<style scoped>\n",
       "    .dataframe tbody tr th:only-of-type {\n",
       "        vertical-align: middle;\n",
       "    }\n",
       "\n",
       "    .dataframe tbody tr th {\n",
       "        vertical-align: top;\n",
       "    }\n",
       "\n",
       "    .dataframe thead th {\n",
       "        text-align: right;\n",
       "    }\n",
       "</style>\n",
       "<table border=\"1\" class=\"dataframe\">\n",
       "  <thead>\n",
       "    <tr style=\"text-align: right;\">\n",
       "      <th></th>\n",
       "      <th>Unnamed: 0</th>\n",
       "      <th>price</th>\n",
       "      <th>rooms</th>\n",
       "      <th>bathroom</th>\n",
       "      <th>square_meters</th>\n",
       "      <th>square_meters_price</th>\n",
       "    </tr>\n",
       "  </thead>\n",
       "  <tbody>\n",
       "    <tr>\n",
       "      <th>count</th>\n",
       "      <td>8188.000000</td>\n",
       "      <td>8188.000000</td>\n",
       "      <td>8188.000000</td>\n",
       "      <td>8188.000000</td>\n",
       "      <td>8188.000000</td>\n",
       "      <td>8188.000000</td>\n",
       "    </tr>\n",
       "    <tr>\n",
       "      <th>mean</th>\n",
       "      <td>4093.500000</td>\n",
       "      <td>1444.092574</td>\n",
       "      <td>2.420738</td>\n",
       "      <td>1.508793</td>\n",
       "      <td>84.610161</td>\n",
       "      <td>17.739121</td>\n",
       "    </tr>\n",
       "    <tr>\n",
       "      <th>std</th>\n",
       "      <td>2363.816335</td>\n",
       "      <td>1125.886215</td>\n",
       "      <td>1.138592</td>\n",
       "      <td>0.732798</td>\n",
       "      <td>47.874028</td>\n",
       "      <td>9.245241</td>\n",
       "    </tr>\n",
       "    <tr>\n",
       "      <th>min</th>\n",
       "      <td>0.000000</td>\n",
       "      <td>320.000000</td>\n",
       "      <td>0.000000</td>\n",
       "      <td>1.000000</td>\n",
       "      <td>10.000000</td>\n",
       "      <td>4.910714</td>\n",
       "    </tr>\n",
       "    <tr>\n",
       "      <th>25%</th>\n",
       "      <td>2046.750000</td>\n",
       "      <td>875.000000</td>\n",
       "      <td>2.000000</td>\n",
       "      <td>1.000000</td>\n",
       "      <td>56.000000</td>\n",
       "      <td>12.790698</td>\n",
       "    </tr>\n",
       "    <tr>\n",
       "      <th>50%</th>\n",
       "      <td>4093.500000</td>\n",
       "      <td>1100.000000</td>\n",
       "      <td>2.000000</td>\n",
       "      <td>1.000000</td>\n",
       "      <td>73.000000</td>\n",
       "      <td>15.306122</td>\n",
       "    </tr>\n",
       "    <tr>\n",
       "      <th>75%</th>\n",
       "      <td>6140.250000</td>\n",
       "      <td>1540.000000</td>\n",
       "      <td>3.000000</td>\n",
       "      <td>2.000000</td>\n",
       "      <td>95.000000</td>\n",
       "      <td>19.444444</td>\n",
       "    </tr>\n",
       "    <tr>\n",
       "      <th>max</th>\n",
       "      <td>8187.000000</td>\n",
       "      <td>15000.000000</td>\n",
       "      <td>10.000000</td>\n",
       "      <td>8.000000</td>\n",
       "      <td>679.000000</td>\n",
       "      <td>186.666667</td>\n",
       "    </tr>\n",
       "  </tbody>\n",
       "</table>\n",
       "</div>"
      ],
      "text/plain": [
       "        Unnamed: 0         price        rooms     bathroom  square_meters  \\\n",
       "count  8188.000000   8188.000000  8188.000000  8188.000000    8188.000000   \n",
       "mean   4093.500000   1444.092574     2.420738     1.508793      84.610161   \n",
       "std    2363.816335   1125.886215     1.138592     0.732798      47.874028   \n",
       "min       0.000000    320.000000     0.000000     1.000000      10.000000   \n",
       "25%    2046.750000    875.000000     2.000000     1.000000      56.000000   \n",
       "50%    4093.500000   1100.000000     2.000000     1.000000      73.000000   \n",
       "75%    6140.250000   1540.000000     3.000000     2.000000      95.000000   \n",
       "max    8187.000000  15000.000000    10.000000     8.000000     679.000000   \n",
       "\n",
       "       square_meters_price  \n",
       "count          8188.000000  \n",
       "mean             17.739121  \n",
       "std               9.245241  \n",
       "min               4.910714  \n",
       "25%              12.790698  \n",
       "50%              15.306122  \n",
       "75%              19.444444  \n",
       "max             186.666667  "
      ]
     },
     "execution_count": 11,
     "metadata": {},
     "output_type": "execute_result"
    }
   ],
   "source": [
    "df.describe()"
   ]
  },
  {
   "cell_type": "markdown",
   "metadata": {},
   "source": [
    "## Data Overview"
   ]
  },
  {
   "cell_type": "markdown",
   "metadata": {},
   "source": [
    "## Consolidated notes on Data Overview"
   ]
  },
  {
   "cell_type": "markdown",
   "metadata": {},
   "source": []
  },
  {
   "cell_type": "markdown",
   "metadata": {},
   "source": [
    "# Exploratory Data Analysis (EDA)"
   ]
  },
  {
   "cell_type": "markdown",
   "metadata": {},
   "source": [
    "## EDA Functions"
   ]
  },
  {
   "cell_type": "markdown",
   "metadata": {},
   "source": [
    "#### DATA CLEANING"
   ]
  },
  {
   "cell_type": "code",
   "execution_count": 12,
   "metadata": {},
   "outputs": [
    {
     "name": "stdout",
     "output_type": "stream",
     "text": [
      "<class 'pandas.core.frame.DataFrame'>\n",
      "RangeIndex: 8188 entries, 0 to 8187\n",
      "Data columns (total 10 columns):\n",
      " #   Column               Non-Null Count  Dtype  \n",
      "---  ------               --------------  -----  \n",
      " 0   Unnamed: 0           8188 non-null   int64  \n",
      " 1   price                8188 non-null   int64  \n",
      " 2   rooms                8188 non-null   int64  \n",
      " 3   bathroom             8188 non-null   int64  \n",
      " 4   lift                 8188 non-null   bool   \n",
      " 5   terrace              8188 non-null   bool   \n",
      " 6   square_meters        8188 non-null   int64  \n",
      " 7   real_state           7920 non-null   object \n",
      " 8   neighborhood         8188 non-null   object \n",
      " 9   square_meters_price  8188 non-null   float64\n",
      "dtypes: bool(2), float64(1), int64(5), object(2)\n",
      "memory usage: 527.9+ KB\n"
     ]
    },
    {
     "data": {
      "text/plain": [
       "Unnamed: 0               0\n",
       "price                    0\n",
       "rooms                    0\n",
       "bathroom                 0\n",
       "lift                     0\n",
       "terrace                  0\n",
       "square_meters            0\n",
       "real_state             268\n",
       "neighborhood             0\n",
       "square_meters_price      0\n",
       "dtype: int64"
      ]
     },
     "execution_count": 12,
     "metadata": {},
     "output_type": "execute_result"
    }
   ],
   "source": [
    "# Info about columns and nulls\n",
    "df.info()\n",
    "df.isnull().sum()"
   ]
  },
  {
   "cell_type": "markdown",
   "metadata": {},
   "source": [
    "MODIFICAMOS LOS **VALORES NULOS**"
   ]
  },
  {
   "cell_type": "code",
   "execution_count": 17,
   "metadata": {},
   "outputs": [
    {
     "data": {
      "text/plain": [
       "real_state\n",
       "flat         6505\n",
       "apartment     991\n",
       "attic         315\n",
       "study         109\n",
       "Name: count, dtype: int64"
      ]
     },
     "execution_count": 17,
     "metadata": {},
     "output_type": "execute_result"
    }
   ],
   "source": [
    "df.real_state.value_counts()"
   ]
  },
  {
   "cell_type": "code",
   "execution_count": 18,
   "metadata": {},
   "outputs": [],
   "source": [
    "# Modificamos los nulos por 'unknown' ya que es una información relevante.\n",
    "df['real_state'].fillna('unknown', inplace=True)"
   ]
  },
  {
   "cell_type": "code",
   "execution_count": 20,
   "metadata": {},
   "outputs": [
    {
     "data": {
      "text/plain": [
       "real_state\n",
       "flat         6505\n",
       "apartment     991\n",
       "attic         315\n",
       "unknown       268\n",
       "study         109\n",
       "Name: count, dtype: int64"
      ]
     },
     "execution_count": 20,
     "metadata": {},
     "output_type": "execute_result"
    }
   ],
   "source": [
    "df['real_state'].value_counts()"
   ]
  },
  {
   "cell_type": "markdown",
   "metadata": {},
   "source": [
    "REVISIÓN Y CORRECCIÓN DE ELEMENTOS DUPLICADOS"
   ]
  },
  {
   "cell_type": "code",
   "execution_count": 21,
   "metadata": {},
   "outputs": [
    {
     "data": {
      "text/plain": [
       "0"
      ]
     },
     "execution_count": 21,
     "metadata": {},
     "output_type": "execute_result"
    }
   ],
   "source": [
    "df.duplicated().sum()"
   ]
  },
  {
   "cell_type": "markdown",
   "metadata": {
    "tags": [
     "parameters"
    ]
   },
   "source": [
    "VISUALIZACIÓN DE LAS DISTRIBUCIONES"
   ]
  },
  {
   "cell_type": "code",
   "execution_count": 22,
   "metadata": {},
   "outputs": [
    {
     "data": {
      "image/png": "[encoded data removed]",
      "text/plain": [
       "<Figure size 2000x1500 with 6 Axes>"
      ]
     },
     "metadata": {},
     "output_type": "display_data"
    }
   ],
   "source": [
    "import matplotlib.pyplot as plt\n",
    "df.hist(bins=50, figsize=(20,15))\n",
    "plt.show()"
   ]
  }
 ],
 "metadata": {
  "kernelspec": {
   "display_name": "Python 3",
   "language": "python",
   "name": "python3"
  },
  "language_info": {
   "codemirror_mode": {
    "name": "ipython",
    "version": 3
   },
   "file_extension": ".py",
   "mimetype": "text/x-python",
   "name": "python",
   "nbconvert_exporter": "python",
   "pygments_lexer": "ipython3",
   "version": "3.11.5"
  }
 },
 "nbformat": 4,
 "nbformat_minor": 2
}
